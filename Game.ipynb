{
 "cells": [
  {
   "cell_type": "code",
   "execution_count": null,
   "metadata": {},
   "outputs": [],
   "source": [
    "import pandas as pd\n",
    "\n",
    "df = pd.read_csv('ligue_1_clean.csv')\n",
    "df.head()"
   ]
  },
  {
   "cell_type": "code",
   "execution_count": null,
   "metadata": {},
   "outputs": [],
   "source": [
    "# Sélectionnez un joueur au hasard\n",
    "joueur = df.sample().iloc[0]\n",
    "\n",
    "# Affiche les informations sélectionnées\n",
    "print(\"Nationalité:\", joueur['Nation'])\n",
    "print(\"Âge:\", joueur['Age'])\n",
    "print(\"Poste:\", joueur['Pos'])\n",
    "print(\"Qui est ce joueur ?\\n\")\n",
    "\n",
    "nom = input()\n",
    "\n",
    "compteur_essais = 1\n",
    "\n",
    "while nom.lower() not in joueur['Player'].lower():\n",
    "    if compteur_essais == 3:\n",
    "        print(\"Désolé, vous avez épuisé vos essais. La réponse est\", joueur['Player'])\n",
    "        break\n",
    "\n",
    "    nom = input(\"Essaie encore : \")\n",
    "    compteur_essais += 1\n",
    "\n",
    "if nom.lower() in joueur['Player'].lower():\n",
    "    print(\"Bravo, c'est gagné !\")"
   ]
  }
 ],
 "metadata": {
  "language_info": {
   "name": "python"
  },
  "orig_nbformat": 4
 },
 "nbformat": 4,
 "nbformat_minor": 2
}
